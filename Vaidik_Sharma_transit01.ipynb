{
  "nbformat": 4,
  "nbformat_minor": 0,
  "metadata": {
    "colab": {
      "provenance": []
    },
    "kernelspec": {
      "name": "python3",
      "display_name": "Python 3"
    },
    "language_info": {
      "name": "python"
    }
  },
  "cells": [
    {
      "cell_type": "code",
      "execution_count": 5,
      "metadata": {
        "colab": {
          "base_uri": "https://localhost:8080/"
        },
        "id": "J-mMaSNcAlhB",
        "outputId": "2567844c-7d10-4f9c-cd8b-6798fdc89451"
      },
      "outputs": [
        {
          "output_type": "stream",
          "name": "stdout",
          "text": [
            "(a) Flux at probe (50 AU): 5.48e-01 W/m^2\n",
            "    Bolometric Magnitude of Sun: -26.84\n",
            "(b) Angular size of Sun (from probe at 50 AU): 0.010658 degrees\n",
            "(c) Angular size of Jupiter (from probe): 0.010298 degrees\n",
            "(d) Fraction of Sun's area covered by Jupiter: 0.010098\n",
            "(e) Magnitude change due to Jupiter transit: 0.011020\n",
            "(f) Magnitude change due to Earth transit: 0.000091\n",
            "(g) Flux at 1 pc: 3.03e-09 W/m^2\n",
            "    Angular size of Sun (from 1 pc): 0.0000007921 degrees\n",
            "    Angular size of Jupiter (from 1 pc): 0.0000000796 degrees\n",
            "    Fraction of Sun's area covered by Jupiter (1 pc): 0.0100982710\n",
            "    Magnitude change due to Jupiter transit (1 pc): 0.0110197930\n",
            "    Fraction of Sun's area covered by Earth (1 pc): 0.0000838632\n",
            "    Magnitude change due to Earth transit (1 pc): 0.0000910571\n"
          ]
        }
      ],
      "source": [
        "import numpy as np\n",
        "\n",
        "def flux_received_at_distance(flux_at_1_au, distance_au):\n",
        "    return flux_at_1_au/(distance_au**2)\n",
        "\n",
        "def bolometric_magnitude(flux, zero_flux):\n",
        "    return -2.5*np.log10(flux/zero_flux)\n",
        "\n",
        "def angular_size(radius_km, distance_au):\n",
        "    distance_km= distance_au*1.496e8\n",
        "    return 2*np.arctan(radius_km/distance_km)*(180/np.pi)\n",
        "\n",
        "def area_of_overlap(radius_sun, radius_planet, distance_sun_planet):\n",
        "    area_sun= np.pi*(radius_sun**2)\n",
        "    area_planet= np.pi*(radius_planet**2)\n",
        "    return area_planet/area_sun\n",
        "\n",
        "def magnitude_change_due_to_transit(fractional_area):\n",
        "    return -2.5*np.log10(1-fractional_area)\n",
        "\n",
        "sun_flux_at_1_au= 1370 #W/m^2\n",
        "zero_mag_flux= 2.51802e-8 #W/m^2\n",
        "distance_probe_sun= 50 #AU\n",
        "radius_sun_km= 695700 #km\n",
        "radius_jupiter_km= 69911 #km\n",
        "distance_jupiter_sun= 5.2 #AU\n",
        "radius_earth_km= 6371 #km\n",
        "distance_earth_sun= 1 #AU\n",
        "distance_probe_1pc= 1*3.26156*206265\n",
        "\n",
        "flux_probe= flux_received_at_distance(sun_flux_at_1_au, distance_probe_sun)\n",
        "bol_mag_sun= bolometric_magnitude(sun_flux_at_1_au, zero_mag_flux)\n",
        "angular_size_sun_probe= angular_size(radius_sun_km, distance_probe_sun)\n",
        "angular_size_jupiter_probe= angular_size(radius_jupiter_km, distance_jupiter_sun)\n",
        "fractional_area_jupiter= area_of_overlap(radius_sun_km, radius_jupiter_km, distance_jupiter_sun)\n",
        "magnitude_change_jupiter= magnitude_change_due_to_transit(fractional_area_jupiter)\n",
        "fractional_area_earth= area_of_overlap(radius_sun_km, radius_earth_km, distance_earth_sun)\n",
        "magnitude_change_earth= magnitude_change_due_to_transit(fractional_area_earth)\n",
        "flux_probe_1pc= flux_received_at_distance(sun_flux_at_1_au, distance_probe_1pc)\n",
        "angular_size_sun_probe_1pc= angular_size(radius_sun_km, distance_probe_1pc)\n",
        "angular_size_jupiter_probe_1pc= angular_size(radius_jupiter_km, distance_probe_1pc)\n",
        "fractional_area_jupiter_1pc= area_of_overlap(radius_sun_km, radius_jupiter_km, distance_probe_1pc)\n",
        "magnitude_change_jupiter_1pc= magnitude_change_due_to_transit(fractional_area_jupiter_1pc)\n",
        "fractional_area_earth_1pc= area_of_overlap(radius_sun_km, radius_earth_km, distance_probe_1pc)\n",
        "magnitude_change_earth_1pc= magnitude_change_due_to_transit(fractional_area_earth_1pc)\n",
        "\n",
        "print(f\"(a) Flux at probe (50 AU): {flux_probe:.2e} W/m^2\")\n",
        "print(f\"    Bolometric Magnitude of Sun: {bol_mag_sun:.2f}\")\n",
        "print(f\"(b) Angular size of Sun (from probe at 50 AU): {angular_size_sun_probe:.6f} degrees\")\n",
        "print(f\"(c) Angular size of Jupiter (from probe): {angular_size_jupiter_probe:.6f} degrees\")\n",
        "print(f\"(d) Fraction of Sun's area covered by Jupiter: {fractional_area_jupiter:.6f}\")\n",
        "print(f\"(e) Magnitude change due to Jupiter transit: {magnitude_change_jupiter:.6f}\")\n",
        "print(f\"(f) Magnitude change due to Earth transit: {magnitude_change_earth:.6f}\")\n",
        "print(f\"(g) Flux at 1 pc: {flux_probe_1pc:.2e} W/m^2\")\n",
        "print(f\"    Angular size of Sun (from 1 pc): {angular_size_sun_probe_1pc:.10f} degrees\")\n",
        "print(f\"    Angular size of Jupiter (from 1 pc): {angular_size_jupiter_probe_1pc:.10f} degrees\")\n",
        "print(f\"    Fraction of Sun's area covered by Jupiter (1 pc): {fractional_area_jupiter_1pc:.10f}\")\n",
        "print(f\"    Magnitude change due to Jupiter transit (1 pc): {magnitude_change_jupiter_1pc:.10f}\")\n",
        "print(f\"    Fraction of Sun's area covered by Earth (1 pc): {fractional_area_earth_1pc:.10f}\")\n",
        "print(f\"    Magnitude change due to Earth transit (1 pc): {magnitude_change_earth_1pc:.10f}\")"
      ]
    }
  ]
}